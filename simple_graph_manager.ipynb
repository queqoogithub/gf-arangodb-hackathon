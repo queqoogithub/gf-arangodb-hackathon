{
 "cells": [
  {
   "cell_type": "code",
   "execution_count": 1,
   "metadata": {},
   "outputs": [],
   "source": [
    "from arango import ArangoClient\n",
    "\n",
    "\n",
    "class GraphManager:\n",
    "    def __init__(self, db_host, db_name, username, password, graph_name):\n",
    "        self.client = ArangoClient(hosts=db_host, verify_override=False)\n",
    "        # self.client = ArangoClient()\n",
    "        self.db = self.client.db(db_name, username=username, password=password)\n",
    "\n",
    "        # create the graph if it doesn't exist\n",
    "        if not self.db.has_graph(graph_name):\n",
    "            self.graph = self.db.create_graph(graph_name)\n",
    "        else:\n",
    "            self.graph = self.db.graph(graph_name)\n",
    "\n",
    "        # create the nodes collection if it doesn't exist\n",
    "        if not self.graph.has_vertex_collection(\"nodes\"):\n",
    "            self.nodes = self.graph.create_vertex_collection(\"nodes\")\n",
    "        else:\n",
    "            self.nodes = self.graph.vertex_collection(\"nodes\")\n",
    "\n",
    "        # create the edges collection if it doesn't exist\n",
    "        if not self.graph.has_edge_definition(\"edges\"):\n",
    "            self.edges = self.graph.create_edge_definition(\n",
    "                edge_collection=\"edges\",\n",
    "                from_vertex_collections=[\"nodes\"],\n",
    "                to_vertex_collections=[\"nodes\"],\n",
    "            )\n",
    "        else:\n",
    "            self.edges = self.graph.edge_collection(\"edges\")\n",
    "\n",
    "    \"\"\" CRUD operations for nodes \"\"\"\n",
    "\n",
    "    def create_node(self, node):\n",
    "        if self.nodes.has(node[\"_key\"]):\n",
    "            self.nodes.replace(node)\n",
    "        else:\n",
    "            self.nodes.insert(node)\n",
    "\n",
    "    def read_node(self, key):\n",
    "        return self.nodes.get(key)\n",
    "\n",
    "    def update_node(self, node):\n",
    "        if self.nodes.has(node[\"_key\"]):\n",
    "            self.nodes.update(node)\n",
    "        else:\n",
    "            raise ValueError(f\"Node with key {node['_key']} does not exist.\")\n",
    "\n",
    "    def delete_node(self, key):\n",
    "        if self.nodes.has(key):\n",
    "            self.nodes.delete(key)\n",
    "        else:\n",
    "            raise ValueError(f\"Node with key {key} does not exist.\")\n",
    "\n",
    "    # batch delete nodes\n",
    "    def delete_nodes(self, keys):\n",
    "        for key in keys:\n",
    "            try:\n",
    "                self.nodes.delete(key)\n",
    "            except Exception as e:\n",
    "                print(f\"Warning: Could not delete node with key {key}. Reason: {e}\")\n",
    "\n",
    "    # delete all nodes\n",
    "    def delete_all_nodes(self):\n",
    "        self.nodes.truncate()\n",
    "\n",
    "    # get nodes by keyword\n",
    "    def get_nodes_by_keyword(self, keyword):\n",
    "        query = \"\"\"\n",
    "        FOR node IN nodes\n",
    "            FILTER node.keyword == @keyword\n",
    "            RETURN node\n",
    "        \"\"\"\n",
    "        bind_vars = {\"keyword\": keyword}\n",
    "        cursor = self.db.aql.execute(query, bind_vars=bind_vars)\n",
    "        return [doc for doc in cursor]\n",
    "\n",
    "    # get nodes containing keyword\n",
    "    def get_nodes_containing_keyword(self, keyword):\n",
    "        query = \"\"\"\n",
    "        FOR node IN nodes\n",
    "            FILTER CONTAINS(node.keyword, @keyword)\n",
    "            RETURN node\n",
    "        \"\"\"\n",
    "        bind_vars = {\"keyword\": keyword}\n",
    "        cursor = self.db.aql.execute(query, bind_vars=bind_vars)\n",
    "        return [doc for doc in cursor]\n",
    "\n",
    "    \"\"\" CRUD operations for edges \"\"\"\n",
    "\n",
    "    def create_edge(self, edge):\n",
    "        self.edges.insert(edge)\n",
    "\n",
    "    def read_edge(self, key):\n",
    "        return self.edges.get(key)\n",
    "\n",
    "    def update_edge(self, edge):\n",
    "        if self.edges.has(edge[\"_key\"]):\n",
    "            self.edges.update(edge)\n",
    "        else:\n",
    "            raise ValueError(f\"Edge with key {edge['_key']} does not exist.\")\n",
    "\n",
    "    def delete_edge(self, key):\n",
    "        if self.edges.has(key):\n",
    "            self.edges.delete(key)\n",
    "        else:\n",
    "            raise ValueError(f\"Edge with key {key} does not exist.\")\n",
    "\n",
    "    def delete_edges(self, keys):\n",
    "        for key in keys:\n",
    "            if self.edges.has(key):\n",
    "                self.edges.delete(key)\n",
    "            else:\n",
    "                print(f\"Warning: Edge with key {key} does not exist.\")\n",
    "\n",
    "    def delete_all_edges(self):\n",
    "        self.edges.truncate()\n",
    "\n",
    "\n",
    "    def get_all_nodes(self):\n",
    "        return list(self.nodes.all())\n",
    "\n",
    "    # get outgoing edges from a node\n",
    "    def get_outgoing_edges(self, node_key):\n",
    "        query = f\"\"\"\n",
    "        FOR v, e IN OUTBOUND 'nodes/{node_key}' edges\n",
    "        RETURN v\n",
    "        \"\"\"\n",
    "        cursor = self.db.aql.execute(query)\n",
    "        return [doc for doc in cursor]\n",
    "    \n",
    "    # get incoming edges to a node\n",
    "    def get_incoming_edges(self, node_key):\n",
    "        query = f\"\"\"\n",
    "        FOR v, e IN INBOUND 'nodes/{node_key}' edges\n",
    "        RETURN v\n",
    "        \"\"\"\n",
    "        cursor = self.db.aql.execute(query)\n",
    "        return [doc for doc in cursor]\n",
    "    \n",
    "    def get_outgoing_edges_of_all_nodes(self):\n",
    "        all_nodes = self.get_all_nodes()\n",
    "        all_outgoing_edges = {}\n",
    "        for node in all_nodes:\n",
    "            node_key = node[\"_key\"]\n",
    "            outgoing_edges = self.get_outgoing_edges(node_key)\n",
    "            all_outgoing_edges[node_key] = outgoing_edges\n",
    "        return all_outgoing_edges\n",
    "    "
   ]
  },
  {
   "cell_type": "code",
   "execution_count": 2,
   "metadata": {},
   "outputs": [],
   "source": [
    "# local - docker\n",
    "graph_manager = GraphManager(\n",
    "    db_host=\"http://localhost:8529\",\n",
    "    db_name=\"my_database\",\n",
    "    username=\"root\",\n",
    "    password=\"somepassword\",\n",
    "    graph_name=\"my_graph\",\n",
    ")"
   ]
  },
  {
   "cell_type": "markdown",
   "metadata": {},
   "source": [
    "create nodes"
   ]
  },
  {
   "cell_type": "code",
   "execution_count": 14,
   "metadata": {},
   "outputs": [
    {
     "name": "stderr",
     "output_type": "stream",
     "text": [
      "/Library/Frameworks/Python.framework/Versions/3.11/lib/python3.11/site-packages/urllib3/connectionpool.py:1063: InsecureRequestWarning: Unverified HTTPS request is being made to host 'localhost'. Adding certificate verification is strongly advised. See: https://urllib3.readthedocs.io/en/1.26.x/advanced-usage.html#ssl-warnings\n",
      "  warnings.warn(\n",
      "/Library/Frameworks/Python.framework/Versions/3.11/lib/python3.11/site-packages/urllib3/connectionpool.py:1063: InsecureRequestWarning: Unverified HTTPS request is being made to host 'localhost'. Adding certificate verification is strongly advised. See: https://urllib3.readthedocs.io/en/1.26.x/advanced-usage.html#ssl-warnings\n",
      "  warnings.warn(\n",
      "/Library/Frameworks/Python.framework/Versions/3.11/lib/python3.11/site-packages/urllib3/connectionpool.py:1063: InsecureRequestWarning: Unverified HTTPS request is being made to host 'localhost'. Adding certificate verification is strongly advised. See: https://urllib3.readthedocs.io/en/1.26.x/advanced-usage.html#ssl-warnings\n",
      "  warnings.warn(\n",
      "/Library/Frameworks/Python.framework/Versions/3.11/lib/python3.11/site-packages/urllib3/connectionpool.py:1063: InsecureRequestWarning: Unverified HTTPS request is being made to host 'localhost'. Adding certificate verification is strongly advised. See: https://urllib3.readthedocs.io/en/1.26.x/advanced-usage.html#ssl-warnings\n",
      "  warnings.warn(\n",
      "/Library/Frameworks/Python.framework/Versions/3.11/lib/python3.11/site-packages/urllib3/connectionpool.py:1063: InsecureRequestWarning: Unverified HTTPS request is being made to host 'localhost'. Adding certificate verification is strongly advised. See: https://urllib3.readthedocs.io/en/1.26.x/advanced-usage.html#ssl-warnings\n",
      "  warnings.warn(\n",
      "/Library/Frameworks/Python.framework/Versions/3.11/lib/python3.11/site-packages/urllib3/connectionpool.py:1063: InsecureRequestWarning: Unverified HTTPS request is being made to host 'localhost'. Adding certificate verification is strongly advised. See: https://urllib3.readthedocs.io/en/1.26.x/advanced-usage.html#ssl-warnings\n",
      "  warnings.warn(\n",
      "/Library/Frameworks/Python.framework/Versions/3.11/lib/python3.11/site-packages/urllib3/connectionpool.py:1063: InsecureRequestWarning: Unverified HTTPS request is being made to host 'localhost'. Adding certificate verification is strongly advised. See: https://urllib3.readthedocs.io/en/1.26.x/advanced-usage.html#ssl-warnings\n",
      "  warnings.warn(\n",
      "/Library/Frameworks/Python.framework/Versions/3.11/lib/python3.11/site-packages/urllib3/connectionpool.py:1063: InsecureRequestWarning: Unverified HTTPS request is being made to host 'localhost'. Adding certificate verification is strongly advised. See: https://urllib3.readthedocs.io/en/1.26.x/advanced-usage.html#ssl-warnings\n",
      "  warnings.warn(\n",
      "/Library/Frameworks/Python.framework/Versions/3.11/lib/python3.11/site-packages/urllib3/connectionpool.py:1063: InsecureRequestWarning: Unverified HTTPS request is being made to host 'localhost'. Adding certificate verification is strongly advised. See: https://urllib3.readthedocs.io/en/1.26.x/advanced-usage.html#ssl-warnings\n",
      "  warnings.warn(\n",
      "/Library/Frameworks/Python.framework/Versions/3.11/lib/python3.11/site-packages/urllib3/connectionpool.py:1063: InsecureRequestWarning: Unverified HTTPS request is being made to host 'localhost'. Adding certificate verification is strongly advised. See: https://urllib3.readthedocs.io/en/1.26.x/advanced-usage.html#ssl-warnings\n",
      "  warnings.warn(\n",
      "/Library/Frameworks/Python.framework/Versions/3.11/lib/python3.11/site-packages/urllib3/connectionpool.py:1063: InsecureRequestWarning: Unverified HTTPS request is being made to host 'localhost'. Adding certificate verification is strongly advised. See: https://urllib3.readthedocs.io/en/1.26.x/advanced-usage.html#ssl-warnings\n",
      "  warnings.warn(\n",
      "/Library/Frameworks/Python.framework/Versions/3.11/lib/python3.11/site-packages/urllib3/connectionpool.py:1063: InsecureRequestWarning: Unverified HTTPS request is being made to host 'localhost'. Adding certificate verification is strongly advised. See: https://urllib3.readthedocs.io/en/1.26.x/advanced-usage.html#ssl-warnings\n",
      "  warnings.warn(\n",
      "/Library/Frameworks/Python.framework/Versions/3.11/lib/python3.11/site-packages/urllib3/connectionpool.py:1063: InsecureRequestWarning: Unverified HTTPS request is being made to host 'localhost'. Adding certificate verification is strongly advised. See: https://urllib3.readthedocs.io/en/1.26.x/advanced-usage.html#ssl-warnings\n",
      "  warnings.warn(\n",
      "/Library/Frameworks/Python.framework/Versions/3.11/lib/python3.11/site-packages/urllib3/connectionpool.py:1063: InsecureRequestWarning: Unverified HTTPS request is being made to host 'localhost'. Adding certificate verification is strongly advised. See: https://urllib3.readthedocs.io/en/1.26.x/advanced-usage.html#ssl-warnings\n",
      "  warnings.warn(\n"
     ]
    }
   ],
   "source": [
    "# case 1-2-3\n",
    "nodes_data = [\n",
    "    {\"_key\": \"A\", \"keyword\": \"กาแฟเบอร์ดี้ โรบัสต้า\", \"is_typo\": False},\n",
    "    {\"_key\": \"B\", \"keyword\": \"อเมซ้อน\", \"is_typo\": True},\n",
    "    {\"_key\": \"C\", \"keyword\": \"อเมซอน\", \"is_typo\": False},\n",
    "    {\"_key\": \"D\", \"keyword\": \"กาแฟกระป๋อง\", \"is_typo\": False},\n",
    "    {\"_key\": \"E\", \"keyword\": \"กาแฟป๋อง\", \"is_typo\": True},\n",
    "    {\"_key\": \"F\", \"keyword\": \"amazon\", \"is_typo\": False},\n",
    "    {\"_key\": \"G\", \"keyword\": \"amezon\", \"is_typo\": True},\n",
    "]\n",
    "for node in nodes_data:\n",
    "    graph_manager.create_node(node)"
   ]
  },
  {
   "cell_type": "markdown",
   "metadata": {},
   "source": [
    "create edges"
   ]
  },
  {
   "cell_type": "code",
   "execution_count": 15,
   "metadata": {},
   "outputs": [
    {
     "name": "stderr",
     "output_type": "stream",
     "text": [
      "/Library/Frameworks/Python.framework/Versions/3.11/lib/python3.11/site-packages/urllib3/connectionpool.py:1063: InsecureRequestWarning: Unverified HTTPS request is being made to host 'localhost'. Adding certificate verification is strongly advised. See: https://urllib3.readthedocs.io/en/1.26.x/advanced-usage.html#ssl-warnings\n",
      "  warnings.warn(\n",
      "/Library/Frameworks/Python.framework/Versions/3.11/lib/python3.11/site-packages/urllib3/connectionpool.py:1063: InsecureRequestWarning: Unverified HTTPS request is being made to host 'localhost'. Adding certificate verification is strongly advised. See: https://urllib3.readthedocs.io/en/1.26.x/advanced-usage.html#ssl-warnings\n",
      "  warnings.warn(\n",
      "/Library/Frameworks/Python.framework/Versions/3.11/lib/python3.11/site-packages/urllib3/connectionpool.py:1063: InsecureRequestWarning: Unverified HTTPS request is being made to host 'localhost'. Adding certificate verification is strongly advised. See: https://urllib3.readthedocs.io/en/1.26.x/advanced-usage.html#ssl-warnings\n",
      "  warnings.warn(\n",
      "/Library/Frameworks/Python.framework/Versions/3.11/lib/python3.11/site-packages/urllib3/connectionpool.py:1063: InsecureRequestWarning: Unverified HTTPS request is being made to host 'localhost'. Adding certificate verification is strongly advised. See: https://urllib3.readthedocs.io/en/1.26.x/advanced-usage.html#ssl-warnings\n",
      "  warnings.warn(\n",
      "/Library/Frameworks/Python.framework/Versions/3.11/lib/python3.11/site-packages/urllib3/connectionpool.py:1063: InsecureRequestWarning: Unverified HTTPS request is being made to host 'localhost'. Adding certificate verification is strongly advised. See: https://urllib3.readthedocs.io/en/1.26.x/advanced-usage.html#ssl-warnings\n",
      "  warnings.warn(\n",
      "/Library/Frameworks/Python.framework/Versions/3.11/lib/python3.11/site-packages/urllib3/connectionpool.py:1063: InsecureRequestWarning: Unverified HTTPS request is being made to host 'localhost'. Adding certificate verification is strongly advised. See: https://urllib3.readthedocs.io/en/1.26.x/advanced-usage.html#ssl-warnings\n",
      "  warnings.warn(\n"
     ]
    }
   ],
   "source": [
    "# case 1 : [กาแฟเบอร์ดี้ โรบัสต้า(False), อเมซ้อน(True), อเมซอน(False) => กาแฟกระป๋อง(False), กาแฟป๋อง(True)] : A, B, C => D, E \n",
    "edges_data = [\n",
    "    {\"_from\": \"nodes/A\", \"_to\": \"nodes/D\"},\n",
    "    {\"_from\": \"nodes/A\", \"_to\": \"nodes/E\"},\n",
    "    {\"_from\": \"nodes/B\", \"_to\": \"nodes/D\"},\n",
    "    {\"_from\": \"nodes/B\", \"_to\": \"nodes/E\"},\n",
    "    {\"_from\": \"nodes/C\", \"_to\": \"nodes/D\"},\n",
    "    {\"_from\": \"nodes/C\", \"_to\": \"nodes/E\"},\n",
    "]\n",
    "for edge in edges_data:\n",
    "    graph_manager.create_edge(edge)"
   ]
  },
  {
   "cell_type": "code",
   "execution_count": 16,
   "metadata": {},
   "outputs": [
    {
     "name": "stderr",
     "output_type": "stream",
     "text": [
      "/Library/Frameworks/Python.framework/Versions/3.11/lib/python3.11/site-packages/urllib3/connectionpool.py:1063: InsecureRequestWarning: Unverified HTTPS request is being made to host 'localhost'. Adding certificate verification is strongly advised. See: https://urllib3.readthedocs.io/en/1.26.x/advanced-usage.html#ssl-warnings\n",
      "  warnings.warn(\n",
      "/Library/Frameworks/Python.framework/Versions/3.11/lib/python3.11/site-packages/urllib3/connectionpool.py:1063: InsecureRequestWarning: Unverified HTTPS request is being made to host 'localhost'. Adding certificate verification is strongly advised. See: https://urllib3.readthedocs.io/en/1.26.x/advanced-usage.html#ssl-warnings\n",
      "  warnings.warn(\n",
      "/Library/Frameworks/Python.framework/Versions/3.11/lib/python3.11/site-packages/urllib3/connectionpool.py:1063: InsecureRequestWarning: Unverified HTTPS request is being made to host 'localhost'. Adding certificate verification is strongly advised. See: https://urllib3.readthedocs.io/en/1.26.x/advanced-usage.html#ssl-warnings\n",
      "  warnings.warn(\n",
      "/Library/Frameworks/Python.framework/Versions/3.11/lib/python3.11/site-packages/urllib3/connectionpool.py:1063: InsecureRequestWarning: Unverified HTTPS request is being made to host 'localhost'. Adding certificate verification is strongly advised. See: https://urllib3.readthedocs.io/en/1.26.x/advanced-usage.html#ssl-warnings\n",
      "  warnings.warn(\n",
      "/Library/Frameworks/Python.framework/Versions/3.11/lib/python3.11/site-packages/urllib3/connectionpool.py:1063: InsecureRequestWarning: Unverified HTTPS request is being made to host 'localhost'. Adding certificate verification is strongly advised. See: https://urllib3.readthedocs.io/en/1.26.x/advanced-usage.html#ssl-warnings\n",
      "  warnings.warn(\n",
      "/Library/Frameworks/Python.framework/Versions/3.11/lib/python3.11/site-packages/urllib3/connectionpool.py:1063: InsecureRequestWarning: Unverified HTTPS request is being made to host 'localhost'. Adding certificate verification is strongly advised. See: https://urllib3.readthedocs.io/en/1.26.x/advanced-usage.html#ssl-warnings\n",
      "  warnings.warn(\n"
     ]
    }
   ],
   "source": [
    "# case 2 : [กาแฟกระป๋อง(False), กาแฟป๋อง(True) => กาแฟเบอร์ดี้ โรบัสต้า(False), อเมซ้อน(True), อเมซอน(False)] : D, E => A, B, C\n",
    "edges_data = [\n",
    "    {\"_from\": \"nodes/D\", \"_to\": \"nodes/A\"},\n",
    "    {\"_from\": \"nodes/D\", \"_to\": \"nodes/B\"},\n",
    "    {\"_from\": \"nodes/D\", \"_to\": \"nodes/C\"},\n",
    "    {\"_from\": \"nodes/E\", \"_to\": \"nodes/A\"},\n",
    "    {\"_from\": \"nodes/E\", \"_to\": \"nodes/B\"},\n",
    "    {\"_from\": \"nodes/E\", \"_to\": \"nodes/C\"},\n",
    "]\n",
    "for edge in edges_data:\n",
    "    graph_manager.create_edge(edge)"
   ]
  },
  {
   "cell_type": "code",
   "execution_count": 193,
   "metadata": {},
   "outputs": [],
   "source": [
    "# case 3 : [อเมซ้อน(True), อเมซอน(False), amazon(False), amezon(True)] : B, C, F, G\n",
    "edges_data = [\n",
    "    {\"_from\": \"nodes/B\", \"_to\": \"nodes/C\"},\n",
    "    {\"_from\": \"nodes/B\", \"_to\": \"nodes/F\"},\n",
    "    {\"_from\": \"nodes/B\", \"_to\": \"nodes/G\"},\n",
    "    {\"_from\": \"nodes/C\", \"_to\": \"nodes/B\"},\n",
    "    {\"_from\": \"nodes/C\", \"_to\": \"nodes/F\"},\n",
    "    {\"_from\": \"nodes/C\", \"_to\": \"nodes/G\"},\n",
    "    {\"_from\": \"nodes/F\", \"_to\": \"nodes/B\"},\n",
    "    {\"_from\": \"nodes/F\", \"_to\": \"nodes/C\"},\n",
    "    {\"_from\": \"nodes/F\", \"_to\": \"nodes/G\"},\n",
    "    {\"_from\": \"nodes/G\", \"_to\": \"nodes/B\"},\n",
    "    {\"_from\": \"nodes/G\", \"_to\": \"nodes/C\"},\n",
    "    {\"_from\": \"nodes/G\", \"_to\": \"nodes/F\"},\n",
    "]\n",
    "for edge in edges_data:\n",
    "    graph_manager.create_edge(edge)"
   ]
  },
  {
   "cell_type": "code",
   "execution_count": 173,
   "metadata": {},
   "outputs": [
    {
     "data": {
      "text/plain": [
       "{'_key': 'A',\n",
       " '_id': 'nodes/A',\n",
       " '_rev': '_ir0GQYC---',\n",
       " 'id': 1,\n",
       " 'keyword': 'กาแฟเบอร์ดี้ โรบัสต้า',\n",
       " 'is_typo': False}"
      ]
     },
     "execution_count": 173,
     "metadata": {},
     "output_type": "execute_result"
    }
   ],
   "source": [
    "graph_manager.read_node('A')"
   ]
  },
  {
   "cell_type": "markdown",
   "metadata": {},
   "source": [
    "delete nodes"
   ]
  },
  {
   "cell_type": "code",
   "execution_count": 16,
   "metadata": {},
   "outputs": [],
   "source": [
    "node_keys_to_delete = ['A', 'B', 'C', 'D', 'E']\n",
    "graph_manager.delete_nodes(node_keys_to_delete)"
   ]
  },
  {
   "cell_type": "code",
   "execution_count": 4,
   "metadata": {},
   "outputs": [
    {
     "name": "stderr",
     "output_type": "stream",
     "text": [
      "/Library/Frameworks/Python.framework/Versions/3.11/lib/python3.11/site-packages/urllib3/connectionpool.py:1063: InsecureRequestWarning: Unverified HTTPS request is being made to host 'localhost'. Adding certificate verification is strongly advised. See: https://urllib3.readthedocs.io/en/1.26.x/advanced-usage.html#ssl-warnings\n",
      "  warnings.warn(\n"
     ]
    }
   ],
   "source": [
    "graph_manager.delete_all_nodes()"
   ]
  },
  {
   "cell_type": "markdown",
   "metadata": {},
   "source": [
    "deletes edges"
   ]
  },
  {
   "cell_type": "code",
   "execution_count": 5,
   "metadata": {},
   "outputs": [
    {
     "name": "stderr",
     "output_type": "stream",
     "text": [
      "/Library/Frameworks/Python.framework/Versions/3.11/lib/python3.11/site-packages/urllib3/connectionpool.py:1063: InsecureRequestWarning: Unverified HTTPS request is being made to host 'localhost'. Adding certificate verification is strongly advised. See: https://urllib3.readthedocs.io/en/1.26.x/advanced-usage.html#ssl-warnings\n",
      "  warnings.warn(\n"
     ]
    }
   ],
   "source": [
    "graph_manager.delete_all_edges()"
   ]
  },
  {
   "cell_type": "markdown",
   "metadata": {},
   "source": [
    "incoming edges of node"
   ]
  },
  {
   "cell_type": "code",
   "execution_count": 169,
   "metadata": {},
   "outputs": [
    {
     "data": {
      "text/plain": [
       "[]"
      ]
     },
     "execution_count": 169,
     "metadata": {},
     "output_type": "execute_result"
    }
   ],
   "source": [
    "graph_manager.get_incoming_edges('E')"
   ]
  },
  {
   "cell_type": "markdown",
   "metadata": {},
   "source": [
    "outgoing edges of node"
   ]
  },
  {
   "cell_type": "code",
   "execution_count": 174,
   "metadata": {},
   "outputs": [
    {
     "data": {
      "text/plain": [
       "[{'_key': 'E',\n",
       "  '_id': 'nodes/E',\n",
       "  '_rev': '_ir0GQZe---',\n",
       "  'id': 5,\n",
       "  'keyword': 'กาแฟป๋อง',\n",
       "  'is_typo': True},\n",
       " {'_key': 'D',\n",
       "  '_id': 'nodes/D',\n",
       "  '_rev': '_ir0GQZG---',\n",
       "  'id': 4,\n",
       "  'keyword': 'กาแฟกระป๋อง',\n",
       "  'is_typo': False}]"
      ]
     },
     "execution_count": 174,
     "metadata": {},
     "output_type": "execute_result"
    }
   ],
   "source": [
    "graph_manager.get_outgoing_edges('A')"
   ]
  },
  {
   "cell_type": "code",
   "execution_count": 175,
   "metadata": {},
   "outputs": [
    {
     "data": {
      "text/plain": [
       "[]"
      ]
     },
     "execution_count": 175,
     "metadata": {},
     "output_type": "execute_result"
    }
   ],
   "source": [
    "graph_manager.get_outgoing_edges('D')"
   ]
  },
  {
   "cell_type": "code",
   "execution_count": 4,
   "metadata": {},
   "outputs": [
    {
     "data": {
      "text/plain": [
       "[]"
      ]
     },
     "execution_count": 4,
     "metadata": {},
     "output_type": "execute_result"
    }
   ],
   "source": [
    "existing_edges = graph_manager.edges.all()\n",
    "[edge['_key'] for edge in existing_edges]"
   ]
  },
  {
   "cell_type": "code",
   "execution_count": 178,
   "metadata": {},
   "outputs": [
    {
     "data": {
      "text/plain": [
       "{'_key': '189611',\n",
       " '_id': 'edges/189611',\n",
       " '_from': 'nodes/A',\n",
       " '_to': 'nodes/D',\n",
       " '_rev': '_ir0GTSG---'}"
      ]
     },
     "execution_count": 178,
     "metadata": {},
     "output_type": "execute_result"
    }
   ],
   "source": [
    "graph_manager.read_edge('189611')"
   ]
  },
  {
   "cell_type": "code",
   "execution_count": 6,
   "metadata": {},
   "outputs": [
    {
     "data": {
      "text/plain": [
       "{'A': [{'_key': 'E',\n",
       "   '_id': 'nodes/E',\n",
       "   '_rev': '_i0avhRC---',\n",
       "   'keyword': 'กาแฟป๋อง',\n",
       "   'is_typo': True},\n",
       "  {'_key': 'D',\n",
       "   '_id': 'nodes/D',\n",
       "   '_rev': '_i0avhQ6---',\n",
       "   'keyword': 'กาแฟกระป๋อง',\n",
       "   'is_typo': False}],\n",
       " 'B': [{'_key': 'E',\n",
       "   '_id': 'nodes/E',\n",
       "   '_rev': '_i0avhRC---',\n",
       "   'keyword': 'กาแฟป๋อง',\n",
       "   'is_typo': True},\n",
       "  {'_key': 'D',\n",
       "   '_id': 'nodes/D',\n",
       "   '_rev': '_i0avhQ6---',\n",
       "   'keyword': 'กาแฟกระป๋อง',\n",
       "   'is_typo': False}],\n",
       " 'C': [{'_key': 'E',\n",
       "   '_id': 'nodes/E',\n",
       "   '_rev': '_i0avhRC---',\n",
       "   'keyword': 'กาแฟป๋อง',\n",
       "   'is_typo': True},\n",
       "  {'_key': 'D',\n",
       "   '_id': 'nodes/D',\n",
       "   '_rev': '_i0avhQ6---',\n",
       "   'keyword': 'กาแฟกระป๋อง',\n",
       "   'is_typo': False}],\n",
       " 'D': [],\n",
       " 'E': [],\n",
       " 'F': [],\n",
       " 'G': []}"
      ]
     },
     "execution_count": 6,
     "metadata": {},
     "output_type": "execute_result"
    }
   ],
   "source": [
    "outgoing_edges = graph_manager.get_outgoing_edges_of_all_nodes()\n",
    "outgoing_edges"
   ]
  },
  {
   "cell_type": "markdown",
   "metadata": {},
   "source": [
    "convert outgoing to dataframe"
   ]
  },
  {
   "cell_type": "code",
   "execution_count": 41,
   "metadata": {},
   "outputs": [
    {
     "data": {
      "text/html": [
       "<div>\n",
       "<style scoped>\n",
       "    .dataframe tbody tr th:only-of-type {\n",
       "        vertical-align: middle;\n",
       "    }\n",
       "\n",
       "    .dataframe tbody tr th {\n",
       "        vertical-align: top;\n",
       "    }\n",
       "\n",
       "    .dataframe thead th {\n",
       "        text-align: right;\n",
       "    }\n",
       "</style>\n",
       "<table border=\"1\" class=\"dataframe\">\n",
       "  <thead>\n",
       "    <tr style=\"text-align: right;\">\n",
       "      <th></th>\n",
       "      <th>_from</th>\n",
       "      <th>is_typo_from</th>\n",
       "      <th>_to</th>\n",
       "      <th>is_typo_to</th>\n",
       "    </tr>\n",
       "  </thead>\n",
       "  <tbody>\n",
       "    <tr>\n",
       "      <th>0</th>\n",
       "      <td>A</td>\n",
       "      <td>False</td>\n",
       "      <td>E</td>\n",
       "      <td>True</td>\n",
       "    </tr>\n",
       "    <tr>\n",
       "      <th>1</th>\n",
       "      <td>A</td>\n",
       "      <td>False</td>\n",
       "      <td>D</td>\n",
       "      <td>False</td>\n",
       "    </tr>\n",
       "    <tr>\n",
       "      <th>2</th>\n",
       "      <td>B</td>\n",
       "      <td>True</td>\n",
       "      <td>E</td>\n",
       "      <td>True</td>\n",
       "    </tr>\n",
       "    <tr>\n",
       "      <th>3</th>\n",
       "      <td>B</td>\n",
       "      <td>True</td>\n",
       "      <td>D</td>\n",
       "      <td>False</td>\n",
       "    </tr>\n",
       "    <tr>\n",
       "      <th>4</th>\n",
       "      <td>C</td>\n",
       "      <td>False</td>\n",
       "      <td>E</td>\n",
       "      <td>True</td>\n",
       "    </tr>\n",
       "    <tr>\n",
       "      <th>5</th>\n",
       "      <td>C</td>\n",
       "      <td>False</td>\n",
       "      <td>D</td>\n",
       "      <td>False</td>\n",
       "    </tr>\n",
       "    <tr>\n",
       "      <th>6</th>\n",
       "      <td>D</td>\n",
       "      <td>False</td>\n",
       "      <td>A</td>\n",
       "      <td>False</td>\n",
       "    </tr>\n",
       "    <tr>\n",
       "      <th>7</th>\n",
       "      <td>E</td>\n",
       "      <td>True</td>\n",
       "      <td>A</td>\n",
       "      <td>False</td>\n",
       "    </tr>\n",
       "  </tbody>\n",
       "</table>\n",
       "</div>"
      ],
      "text/plain": [
       "  _from  is_typo_from _to  is_typo_to\n",
       "0     A         False   E        True\n",
       "1     A         False   D       False\n",
       "2     B          True   E        True\n",
       "3     B          True   D       False\n",
       "4     C         False   E        True\n",
       "5     C         False   D       False\n",
       "6     D         False   A       False\n",
       "7     E          True   A       False"
      ]
     },
     "execution_count": 41,
     "metadata": {},
     "output_type": "execute_result"
    }
   ],
   "source": [
    "import pandas as pd\n",
    "\n",
    "data = []\n",
    "\n",
    "# Loop through each node and its edges\n",
    "for from_node, edges in outgoing_edges.items():\n",
    "    is_typo_from = graph_manager.read_node(from_node)['is_typo']\n",
    "    for edge in edges:\n",
    "        to_node = edge['_key']\n",
    "        is_typo_to = edge['is_typo']\n",
    "        \n",
    "        # Append the data to the list\n",
    "        data.append({\n",
    "            '_from': from_node,\n",
    "            'is_typo_from': is_typo_from,\n",
    "            '_to': to_node,\n",
    "            'is_typo_to': is_typo_to\n",
    "        })\n",
    "\n",
    "df = pd.DataFrame(data)\n",
    "\n",
    "df"
   ]
  },
  {
   "cell_type": "markdown",
   "metadata": {},
   "source": [
    "index synonym"
   ]
  },
  {
   "cell_type": "code",
   "execution_count": 42,
   "metadata": {},
   "outputs": [
    {
     "data": {
      "text/html": [
       "<div>\n",
       "<style scoped>\n",
       "    .dataframe tbody tr th:only-of-type {\n",
       "        vertical-align: middle;\n",
       "    }\n",
       "\n",
       "    .dataframe tbody tr th {\n",
       "        vertical-align: top;\n",
       "    }\n",
       "\n",
       "    .dataframe thead th {\n",
       "        text-align: right;\n",
       "    }\n",
       "</style>\n",
       "<table border=\"1\" class=\"dataframe\">\n",
       "  <thead>\n",
       "    <tr style=\"text-align: right;\">\n",
       "      <th></th>\n",
       "      <th>_from</th>\n",
       "      <th>is_typo_from</th>\n",
       "      <th>_to</th>\n",
       "      <th>is_typo_to</th>\n",
       "    </tr>\n",
       "  </thead>\n",
       "  <tbody>\n",
       "    <tr>\n",
       "      <th>1</th>\n",
       "      <td>A</td>\n",
       "      <td>False</td>\n",
       "      <td>D</td>\n",
       "      <td>False</td>\n",
       "    </tr>\n",
       "    <tr>\n",
       "      <th>5</th>\n",
       "      <td>C</td>\n",
       "      <td>False</td>\n",
       "      <td>D</td>\n",
       "      <td>False</td>\n",
       "    </tr>\n",
       "    <tr>\n",
       "      <th>6</th>\n",
       "      <td>D</td>\n",
       "      <td>False</td>\n",
       "      <td>A</td>\n",
       "      <td>False</td>\n",
       "    </tr>\n",
       "  </tbody>\n",
       "</table>\n",
       "</div>"
      ],
      "text/plain": [
       "  _from  is_typo_from _to  is_typo_to\n",
       "1     A         False   D       False\n",
       "5     C         False   D       False\n",
       "6     D         False   A       False"
      ]
     },
     "execution_count": 42,
     "metadata": {},
     "output_type": "execute_result"
    }
   ],
   "source": [
    "df.query('is_typo_from == False and is_typo_to == False')"
   ]
  },
  {
   "cell_type": "markdown",
   "metadata": {},
   "source": [
    "search synonym"
   ]
  },
  {
   "cell_type": "code",
   "execution_count": 43,
   "metadata": {},
   "outputs": [],
   "source": [
    "filtered_df1 = df.query('is_typo_from == True and is_typo_to == False')\n",
    "filtered_df2 = df.query('is_typo_from == False and is_typo_to == True')\n",
    "filtered_df2 = filtered_df2.rename(columns={'_from': '_to', 'is_typo_from': 'is_typo_to', '_to': '_from', 'is_typo_to': 'is_typo_from'})"
   ]
  },
  {
   "cell_type": "code",
   "execution_count": 44,
   "metadata": {},
   "outputs": [
    {
     "data": {
      "text/html": [
       "<div>\n",
       "<style scoped>\n",
       "    .dataframe tbody tr th:only-of-type {\n",
       "        vertical-align: middle;\n",
       "    }\n",
       "\n",
       "    .dataframe tbody tr th {\n",
       "        vertical-align: top;\n",
       "    }\n",
       "\n",
       "    .dataframe thead th {\n",
       "        text-align: right;\n",
       "    }\n",
       "</style>\n",
       "<table border=\"1\" class=\"dataframe\">\n",
       "  <thead>\n",
       "    <tr style=\"text-align: right;\">\n",
       "      <th></th>\n",
       "      <th>_from</th>\n",
       "      <th>is_typo_from</th>\n",
       "      <th>_to</th>\n",
       "      <th>is_typo_to</th>\n",
       "    </tr>\n",
       "  </thead>\n",
       "  <tbody>\n",
       "    <tr>\n",
       "      <th>3</th>\n",
       "      <td>B</td>\n",
       "      <td>True</td>\n",
       "      <td>D</td>\n",
       "      <td>False</td>\n",
       "    </tr>\n",
       "    <tr>\n",
       "      <th>7</th>\n",
       "      <td>E</td>\n",
       "      <td>True</td>\n",
       "      <td>A</td>\n",
       "      <td>False</td>\n",
       "    </tr>\n",
       "  </tbody>\n",
       "</table>\n",
       "</div>"
      ],
      "text/plain": [
       "  _from  is_typo_from _to  is_typo_to\n",
       "3     B          True   D       False\n",
       "7     E          True   A       False"
      ]
     },
     "execution_count": 44,
     "metadata": {},
     "output_type": "execute_result"
    }
   ],
   "source": [
    "filtered_df1"
   ]
  },
  {
   "cell_type": "code",
   "execution_count": 45,
   "metadata": {},
   "outputs": [
    {
     "data": {
      "text/html": [
       "<div>\n",
       "<style scoped>\n",
       "    .dataframe tbody tr th:only-of-type {\n",
       "        vertical-align: middle;\n",
       "    }\n",
       "\n",
       "    .dataframe tbody tr th {\n",
       "        vertical-align: top;\n",
       "    }\n",
       "\n",
       "    .dataframe thead th {\n",
       "        text-align: right;\n",
       "    }\n",
       "</style>\n",
       "<table border=\"1\" class=\"dataframe\">\n",
       "  <thead>\n",
       "    <tr style=\"text-align: right;\">\n",
       "      <th></th>\n",
       "      <th>_to</th>\n",
       "      <th>is_typo_to</th>\n",
       "      <th>_from</th>\n",
       "      <th>is_typo_from</th>\n",
       "    </tr>\n",
       "  </thead>\n",
       "  <tbody>\n",
       "    <tr>\n",
       "      <th>0</th>\n",
       "      <td>A</td>\n",
       "      <td>False</td>\n",
       "      <td>E</td>\n",
       "      <td>True</td>\n",
       "    </tr>\n",
       "    <tr>\n",
       "      <th>4</th>\n",
       "      <td>C</td>\n",
       "      <td>False</td>\n",
       "      <td>E</td>\n",
       "      <td>True</td>\n",
       "    </tr>\n",
       "  </tbody>\n",
       "</table>\n",
       "</div>"
      ],
      "text/plain": [
       "  _to  is_typo_to _from  is_typo_from\n",
       "0   A       False     E          True\n",
       "4   C       False     E          True"
      ]
     },
     "execution_count": 45,
     "metadata": {},
     "output_type": "execute_result"
    }
   ],
   "source": [
    "filtered_df2"
   ]
  },
  {
   "cell_type": "code",
   "execution_count": 50,
   "metadata": {},
   "outputs": [
    {
     "data": {
      "text/html": [
       "<div>\n",
       "<style scoped>\n",
       "    .dataframe tbody tr th:only-of-type {\n",
       "        vertical-align: middle;\n",
       "    }\n",
       "\n",
       "    .dataframe tbody tr th {\n",
       "        vertical-align: top;\n",
       "    }\n",
       "\n",
       "    .dataframe thead th {\n",
       "        text-align: right;\n",
       "    }\n",
       "</style>\n",
       "<table border=\"1\" class=\"dataframe\">\n",
       "  <thead>\n",
       "    <tr style=\"text-align: right;\">\n",
       "      <th></th>\n",
       "      <th>_from</th>\n",
       "      <th>is_typo_from</th>\n",
       "      <th>_to</th>\n",
       "      <th>is_typo_to</th>\n",
       "    </tr>\n",
       "  </thead>\n",
       "  <tbody>\n",
       "    <tr>\n",
       "      <th>3</th>\n",
       "      <td>B</td>\n",
       "      <td>True</td>\n",
       "      <td>D</td>\n",
       "      <td>False</td>\n",
       "    </tr>\n",
       "    <tr>\n",
       "      <th>7</th>\n",
       "      <td>E</td>\n",
       "      <td>True</td>\n",
       "      <td>A</td>\n",
       "      <td>False</td>\n",
       "    </tr>\n",
       "    <tr>\n",
       "      <th>4</th>\n",
       "      <td>E</td>\n",
       "      <td>True</td>\n",
       "      <td>C</td>\n",
       "      <td>False</td>\n",
       "    </tr>\n",
       "  </tbody>\n",
       "</table>\n",
       "</div>"
      ],
      "text/plain": [
       "  _from  is_typo_from _to  is_typo_to\n",
       "3     B          True   D       False\n",
       "7     E          True   A       False\n",
       "4     E          True   C       False"
      ]
     },
     "execution_count": 50,
     "metadata": {},
     "output_type": "execute_result"
    }
   ],
   "source": [
    "# Concatenate the filtered DataFrames\n",
    "result_df = pd.concat([filtered_df1, filtered_df2])\n",
    "result_df = result_df.drop_duplicates()\n",
    "result_df"
   ]
  },
  {
   "cell_type": "markdown",
   "metadata": {},
   "source": [
    "naive elasticsearch's rule convertion"
   ]
  },
  {
   "cell_type": "code",
   "execution_count": 70,
   "metadata": {},
   "outputs": [
    {
     "name": "stdout",
     "output_type": "stream",
     "text": [
      "B => D\n",
      "E => A\n",
      "B => F\n",
      "D => B\n",
      "G => A\n"
     ]
    }
   ],
   "source": [
    "# Sample DataFrame\n",
    "sdata = {\n",
    "    '_from': ['B', 'E', 'B', 'D', 'G'],\n",
    "    'is_typo_from': [True, True, True, False, False],\n",
    "    '_to': ['D', 'A', 'F', 'B', 'A'],\n",
    "    'is_typo_to': [False, False, True, True, False]\n",
    "}\n",
    "\n",
    "sdf = pd.DataFrame(sdata)\n",
    "\n",
    "# Convert to Elasticsearch rule format\n",
    "elasticsearch_rules = sdf.apply(lambda row: f\"{row['_from']} => {row['_to']}\", axis=1).tolist()\n",
    "\n",
    "# Print the resulting rules\n",
    "for rule in elasticsearch_rules:\n",
    "    print(rule)"
   ]
  },
  {
   "cell_type": "markdown",
   "metadata": {},
   "source": [
    "get nodes by keyword property"
   ]
  },
  {
   "cell_type": "code",
   "execution_count": 152,
   "metadata": {},
   "outputs": [
    {
     "name": "stdout",
     "output_type": "stream",
     "text": [
      "{'_key': 'A', '_id': 'nodes/A', '_rev': '_ipFkMgq---', 'id': 1, 'keyword': 'กาแฟเบอร์ดี้ โรบัสต้า', 'is_typo': False}\n"
     ]
    }
   ],
   "source": [
    "nodes = graph_manager.get_nodes_by_keyword(\"กาแฟเบอร์ดี้ โรบัสต้า\")\n",
    "for node in nodes:\n",
    "    print(node)"
   ]
  },
  {
   "cell_type": "code",
   "execution_count": 276,
   "metadata": {},
   "outputs": [
    {
     "name": "stdout",
     "output_type": "stream",
     "text": [
      "{'_key': '5', '_id': 'nodes/5', '_rev': '_iteHVQi---', 'keyword': 'กาแฟ', 'is_typo': False}\n"
     ]
    }
   ],
   "source": [
    "nodes = graph_manager.get_nodes_by_keyword(\"กาแฟ\")\n",
    "for node in nodes:\n",
    "    print(node)"
   ]
  },
  {
   "cell_type": "markdown",
   "metadata": {},
   "source": [
    "get nodes there contain keyword"
   ]
  },
  {
   "cell_type": "code",
   "execution_count": 275,
   "metadata": {},
   "outputs": [
    {
     "name": "stdout",
     "output_type": "stream",
     "text": [
      "{'_key': '5', '_id': 'nodes/5', '_rev': '_iteHVQi---', 'keyword': 'กาแฟ', 'is_typo': False}\n",
      "{'_key': '7', '_id': 'nodes/7', '_rev': '_iteHVQu---', 'keyword': 'กาแฟป๋อง', 'is_typo': True}\n",
      "{'_key': '8', '_id': 'nodes/8', '_rev': '_iteHVQ6---', 'keyword': 'กาแฟกระป๋อง', 'is_typo': False}\n"
     ]
    }
   ],
   "source": [
    "nodes = graph_manager.get_nodes_containing_keyword(\"กาแฟ\")\n",
    "for node in nodes:\n",
    "    print(node)"
   ]
  }
 ],
 "metadata": {
  "kernelspec": {
   "display_name": "Python 3",
   "language": "python",
   "name": "python3"
  },
  "language_info": {
   "codemirror_mode": {
    "name": "ipython",
    "version": 3
   },
   "file_extension": ".py",
   "mimetype": "text/x-python",
   "name": "python",
   "nbconvert_exporter": "python",
   "pygments_lexer": "ipython3",
   "version": "3.11.1"
  }
 },
 "nbformat": 4,
 "nbformat_minor": 2
}
